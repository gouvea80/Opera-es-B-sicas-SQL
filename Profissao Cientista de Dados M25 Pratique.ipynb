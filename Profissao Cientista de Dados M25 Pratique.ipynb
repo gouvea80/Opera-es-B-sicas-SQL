{
 "nbformat": 4,
 "nbformat_minor": 0,
 "metadata": {
  "colab": {
   "provenance": []
  },
  "kernelspec": {
   "name": "python3",
   "display_name": "Python 3"
  },
  "language_info": {
   "name": "python"
  }
 },
 "cells": [
  {
   "cell_type": "markdown",
   "source": [
    "# **MÓDULO 25 - Operações Básicas SQL**"
   ],
   "metadata": {
    "id": "4T5dCtwYXFS0"
   }
  },
  {
   "cell_type": "markdown",
   "source": [
    "Para nossa atividade inicial de SQL trabalharemos com uma base de vendas.\n",
    "Abaixo temos o ambiente de preparo para trabalharmos com o SQL lite."
   ],
   "metadata": {
    "id": "tGub_MhcXTfu"
   }
  },
  {
   "cell_type": "code",
   "metadata": {
    "id": "eQtWi0CfXCPn",
    "ExecuteTime": {
     "end_time": "2025-08-11T01:53:40.588658Z",
     "start_time": "2025-08-11T01:53:40.508144Z"
    }
   },
   "source": [
    "import sqlite3 #Importando a biblioteca necessária\n",
    "import pandas as pd"
   ],
   "outputs": [],
   "execution_count": 4
  },
  {
   "cell_type": "code",
   "source": [
    "df_vendas = pd.read_csv(\"TB_VENDAS_TAREFA.csv\", delimiter=';')"
   ],
   "metadata": {
    "id": "yKsW2EEpXQTK",
    "ExecuteTime": {
     "end_time": "2025-08-11T01:53:40.499462Z",
     "start_time": "2025-08-11T01:53:40.455235Z"
    }
   },
   "outputs": [],
   "execution_count": 3
  },
  {
   "cell_type": "code",
   "source": [
    "conn = sqlite3.connect(':memory:')\n",
    "df_vendas.to_sql('tb_vendas', conn, index=False, if_exists='replace')"
   ],
   "metadata": {
    "colab": {
     "base_uri": "https://localhost:8080/"
    },
    "id": "vbdvMKZgXtT5",
    "outputId": "aa99ea0f-70a5-40d2-c1c8-3230f04491b7",
    "ExecuteTime": {
     "end_time": "2025-08-11T01:54:51.621494Z",
     "start_time": "2025-08-11T01:54:51.037887Z"
    }
   },
   "outputs": [
    {
     "data": {
      "text/plain": [
       "24"
      ]
     },
     "execution_count": 6,
     "metadata": {},
     "output_type": "execute_result"
    }
   ],
   "execution_count": 6
  },
  {
   "cell_type": "code",
   "source": [
    "def run_query(query):\n",
    "    return pd.read_sql_query(query, conn)"
   ],
   "metadata": {
    "id": "Z3-elg3aXuiM",
    "ExecuteTime": {
     "end_time": "2025-08-11T01:54:53.324941Z",
     "start_time": "2025-08-11T01:54:53.320695Z"
    }
   },
   "outputs": [],
   "execution_count": 7
  },
  {
   "cell_type": "markdown",
   "source": [
    "# 1) Faça uma consulta que retorne os nomes dos produtos distintos que temos na base de venda.\n"
   ],
   "metadata": {
    "id": "Z_EFXuNLXz7m"
   }
  },
  {
   "cell_type": "code",
   "source": [
    "query = \"\"\"\n",
    "SELECT DISTINCT produto\n",
    "FROM tb_vendas;\n",
    "\"\"\"\n",
    "result_df = run_query(query)\n",
    "print(result_df)"
   ],
   "metadata": {
    "id": "RXZK6kTcZ4BR",
    "ExecuteTime": {
     "end_time": "2025-08-11T01:55:02.073571Z",
     "start_time": "2025-08-11T01:55:00.904013Z"
    }
   },
   "outputs": [
    {
     "name": "stdout",
     "output_type": "stream",
     "text": [
      "    PRODUTO\n",
      "0  CAMISETA\n",
      "1     CALCA\n",
      "2   BERMUDA\n",
      "3   VESTIDO\n",
      "4      MEIA\n"
     ]
    }
   ],
   "execution_count": 8
  },
  {
   "cell_type": "markdown",
   "source": [
    "# 2) Faça uma consulta que retorne a contagem dos clientes distintos que temos na nossa base, não esqueça de renomear sua coluna.\n",
    "\n",
    "Dica: Você pode usar o distinct dentro do count()"
   ],
   "metadata": {
    "id": "i0m1rdHk1kHc"
   }
  },
  {
   "cell_type": "code",
   "source": [
    "query = \"\"\"\n",
    "SELECT COUNT(DISTINCT ID_CLIENTE) AS total_clientes\n",
    "FROM tb_vendas;\n",
    "\"\"\"\n",
    "result_df = run_query(query)\n",
    "print(result_df)"
   ],
   "metadata": {
    "id": "uDGHdqIwZ72P",
    "ExecuteTime": {
     "end_time": "2025-08-11T01:55:16.582086Z",
     "start_time": "2025-08-11T01:55:15.667738Z"
    }
   },
   "outputs": [
    {
     "name": "stdout",
     "output_type": "stream",
     "text": [
      "   total_clientes\n",
      "0              22\n"
     ]
    }
   ],
   "execution_count": 9
  },
  {
   "cell_type": "markdown",
   "source": [
    "# 3) Faça uma consulta que retorne uma coluna com os produtos distintos e o valor_unid de cada produto. Porém apenas para produtos onde o valor_unid é maior ou igual a 50 reais."
   ],
   "metadata": {
    "id": "OvDezkJ516jd"
   }
  },
  {
   "cell_type": "code",
   "source": [
    "query = \"\"\"\n",
    "SELECT DISTINCT produto, VALOR_UNID\n",
    "FROM tb_vendas\n",
    "WHERE valor_unid >= 50;\n",
    "\"\"\"\n",
    "result_df = run_query(query)\n",
    "print(result_df)"
   ],
   "metadata": {
    "id": "_Feprb8JZ9Cg",
    "ExecuteTime": {
     "end_time": "2025-08-11T01:55:30.842468Z",
     "start_time": "2025-08-11T01:55:30.833754Z"
    }
   },
   "outputs": [
    {
     "name": "stdout",
     "output_type": "stream",
     "text": [
      "   PRODUTO VALOR_UNID\n",
      "0    CALCA       89,9\n",
      "1  BERMUDA       79,5\n"
     ]
    }
   ],
   "execution_count": 10
  },
  {
   "cell_type": "markdown",
   "source": [
    "# [DESAFIO] 4) Faça uma consulta que retorne o ID das compras e o valor total gasto nessa compra (Valor_unidade X Unidades) das 5 compras com mais valor total gasto."
   ],
   "metadata": {
    "id": "jcxg6MuX2c61"
   }
  },
  {
   "cell_type": "code",
   "source": [
    "query = \"\"\"\n",
    "SELECT id_compra,\n",
    "       (valor_unid * unidades) AS valor_total\n",
    "FROM tb_vendas\n",
    "ORDER BY valor_total DESC\n",
    "LIMIT 5;\n",
    "\"\"\"\n",
    "result_df = run_query(query)\n",
    "print(result_df)"
   ],
   "metadata": {
    "id": "rtmlv-MyZ99R",
    "ExecuteTime": {
     "end_time": "2025-08-11T01:55:35.263821Z",
     "start_time": "2025-08-11T01:55:35.251333Z"
    }
   },
   "outputs": [
    {
     "name": "stdout",
     "output_type": "stream",
     "text": [
      "   ID_COMPRA  valor_total\n",
      "0       1267          204\n",
      "1       1253          178\n",
      "2       1255          178\n",
      "3       1257          178\n",
      "4       1262          178\n"
     ]
    }
   ],
   "execution_count": 11
  },
  {
   "cell_type": "markdown",
   "source": [
    "# 5) Faça uma consulta que retorne os produtos e a média do preço da unidade dos produtos, ordenando do maior para o menor."
   ],
   "metadata": {
    "id": "NJXkUmwH3EkG"
   }
  },
  {
   "cell_type": "code",
   "source": [
    "query = \"\"\"\n",
    "SELECT produto,\n",
    "       AVG(valor_unid) AS media_valor_unid\n",
    "FROM tb_vendas\n",
    "GROUP BY produto\n",
    "ORDER BY media_valor_unid DESC;\n",
    "\"\"\"\n",
    "result_df = run_query(query)\n",
    "print(result_df)"
   ],
   "metadata": {
    "id": "el35t_f8Z_-j",
    "ExecuteTime": {
     "end_time": "2025-08-11T01:55:39.388791Z",
     "start_time": "2025-08-11T01:55:39.363832Z"
    }
   },
   "outputs": [
    {
     "name": "stdout",
     "output_type": "stream",
     "text": [
      "    PRODUTO  media_valor_unid\n",
      "0   VESTIDO             102.0\n",
      "1     CALCA              89.0\n",
      "2   BERMUDA              79.0\n",
      "3  CAMISETA              34.0\n",
      "4      MEIA              25.0\n"
     ]
    }
   ],
   "execution_count": 12
  },
  {
   "cell_type": "markdown",
   "source": [
    "# 6) Faça uma consulta que retorne o id dos 3 clientes da base de vendas que mais relalizaram compras e a quantidade de compras realizadas."
   ],
   "metadata": {
    "id": "KR1f3qbB3s8D"
   }
  },
  {
   "cell_type": "code",
   "source": [
    "query = \"\"\"\n",
    "SELECT id_cliente,\n",
    "       COUNT(*) AS quantidade_compras\n",
    "FROM tb_vendas\n",
    "GROUP BY id_cliente\n",
    "ORDER BY quantidade_compras DESC\n",
    "LIMIT 3;\n",
    "\"\"\"\n",
    "result_df = run_query(query)\n",
    "print(result_df)"
   ],
   "metadata": {
    "id": "ZLZ8mkXjaA-f",
    "ExecuteTime": {
     "end_time": "2025-08-11T01:55:42.838900Z",
     "start_time": "2025-08-11T01:55:42.832821Z"
    }
   },
   "outputs": [
    {
     "name": "stdout",
     "output_type": "stream",
     "text": [
      "   ID_CLIENTE  quantidade_compras\n",
      "0        9425                   2\n",
      "1        9081                   2\n",
      "2        9801                   1\n"
     ]
    }
   ],
   "execution_count": 13
  }
 ]
}
